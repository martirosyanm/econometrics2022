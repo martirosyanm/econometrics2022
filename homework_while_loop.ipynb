{
 "cells": [
  {
   "cell_type": "code",
   "execution_count": null,
   "metadata": {},
   "outputs": [],
   "source": [
    "#2. declare list of length 10 and with while loop decrease it each time by 1 element"
   ]
  },
  {
   "cell_type": "code",
   "execution_count": 37,
   "metadata": {},
   "outputs": [],
   "source": [
    "ls = ['summer', 'spring', 34, 56, 'fall', 76, 89, 'winter', 9, 75]"
   ]
  },
  {
   "cell_type": "code",
   "execution_count": 38,
   "metadata": {},
   "outputs": [
    {
     "data": {
      "text/plain": [
       "10"
      ]
     },
     "execution_count": 38,
     "metadata": {},
     "output_type": "execute_result"
    }
   ],
   "source": [
    "len(ls)"
   ]
  },
  {
   "cell_type": "code",
   "execution_count": 39,
   "metadata": {},
   "outputs": [
    {
     "name": "stdout",
     "output_type": "stream",
     "text": [
      "['summer', 'spring', 34, 56, 'fall', 76, 89, 'winter', 9]\n",
      "['summer', 'spring', 34, 56, 'fall', 76, 89, 'winter']\n",
      "['summer', 'spring', 34, 56, 'fall', 76, 89]\n",
      "['summer', 'spring', 34, 56, 'fall', 76]\n",
      "['summer', 'spring', 34, 56, 'fall']\n",
      "['summer', 'spring', 34, 56]\n",
      "['summer', 'spring', 34]\n",
      "['summer', 'spring']\n",
      "['summer']\n",
      "[]\n"
     ]
    }
   ],
   "source": [
    "while len(ls) > 0 and len(ls) <= 10:\n",
    "    ls.pop()\n",
    "    print(ls)"
   ]
  },
  {
   "cell_type": "code",
   "execution_count": null,
   "metadata": {},
   "outputs": [],
   "source": []
  }
 ],
 "metadata": {
  "interpreter": {
   "hash": "6d46af94c2bbce495f1e668725902fa517c90b1782bcfe2fce0dd9868df553d3"
  },
  "kernelspec": {
   "display_name": "Python 3.9.7 ('base')",
   "language": "python",
   "name": "python3"
  },
  "language_info": {
   "codemirror_mode": {
    "name": "ipython",
    "version": 3
   },
   "file_extension": ".py",
   "mimetype": "text/x-python",
   "name": "python",
   "nbconvert_exporter": "python",
   "pygments_lexer": "ipython3",
   "version": "3.9.7"
  },
  "orig_nbformat": 4
 },
 "nbformat": 4,
 "nbformat_minor": 2
}
