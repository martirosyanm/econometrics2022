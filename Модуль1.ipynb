{
 "cells": [
  {
   "cell_type": "code",
   "execution_count": 1,
   "metadata": {},
   "outputs": [],
   "source": [
    "Dict = {'word': \"Econometrics\",\n",
    "'sentence': \"If the implementation is easy to explain, it may be a good idea.\",\n",
    "'big_list': [\"python\", 3, \"anaconda\", 3.6, \"jupyter\", 10, \"lessons\", \"many\", 99],\n",
    "'empty_list': []\n",
    "}"
   ]
  },
  {
   "cell_type": "code",
   "execution_count": 4,
   "metadata": {},
   "outputs": [],
   "source": [
    "#1,2\n",
    "if not Dict['word'].isupper():\n",
    "    Dict['word'] =\"Applied\"+ Dict['word'].upper() \n"
   ]
  },
  {
   "cell_type": "code",
   "execution_count": 5,
   "metadata": {},
   "outputs": [
    {
     "name": "stdout",
     "output_type": "stream",
     "text": [
      "If the implementation is hard to explain, it may be a good idea.\n"
     ]
    }
   ],
   "source": [
    "#3\n",
    "change = Dict['sentence'].split(\" \")\n",
    "change[4] = \"hard\"\n",
    "change1 = \" \".join(change)\n",
    "Dict['sentence'] = change1\n",
    "print(change1)\n",
    "\n"
   ]
  },
  {
   "cell_type": "code",
   "execution_count": 6,
   "metadata": {},
   "outputs": [
    {
     "name": "stdout",
     "output_type": "stream",
     "text": [
      "p\n",
      "a\n",
      "j\n",
      "l\n",
      "m\n"
     ]
    }
   ],
   "source": [
    "#4\n",
    "for item in Dict['big_list']:\n",
    "    if type(item) == str:\n",
    "        print(item[0])"
   ]
  },
  {
   "cell_type": "code",
   "execution_count": 11,
   "metadata": {},
   "outputs": [
    {
     "name": "stdout",
     "output_type": "stream",
     "text": [
      "100\n"
     ]
    }
   ],
   "source": [
    "#5       \n",
    "sum = 0\n",
    "for item in Dict['big_list']:\n",
    "    if type(item) == int:\n",
    "        sum+= item\n",
    "print(sum)\n",
    "sum1 = 0\n",
    "Dict['big_list'].remove(Dict['big_list'][-1])\n",
    "Dict['big_list'].append(87)\n",
    "for item in Dict['big_list']:\n",
    "    if type(item) == int:\n",
    "        sum1+= item\n"
   ]
  },
  {
   "cell_type": "code",
   "execution_count": 21,
   "metadata": {},
   "outputs": [
    {
     "name": "stdout",
     "output_type": "stream",
     "text": [
      "11\n",
      "13\n",
      "15\n",
      "17\n",
      "19\n",
      "21\n",
      "23\n",
      "25\n",
      "27\n",
      "29\n",
      "31\n",
      "33\n",
      "35\n",
      "37\n",
      "39\n",
      "41\n",
      "43\n",
      "45\n",
      "47\n",
      "49\n"
     ]
    }
   ],
   "source": [
    "#7\n",
    "list1 = []\n",
    "odd = 0\n",
    "even = 0\n",
    "for i in range(10,51):\n",
    "    list1.append(i)\n",
    "\n",
    "for number in list1:\n",
    "    if number % 2 == 0:\n",
    "        even +=1\n",
    "    elif number % 2 == 1:\n",
    "        odd +=1\n",
    "        print(number)\n",
    "\n"
   ]
  },
  {
   "cell_type": "code",
   "execution_count": 23,
   "metadata": {},
   "outputs": [
    {
     "name": "stdout",
     "output_type": "stream",
     "text": [
      "['python', 3, 'anaconda', 3.6, 'jupyter', 10, 'lessons', 10, 87]\n"
     ]
    }
   ],
   "source": [
    "#6\n",
    "Dict['big_list'][7], Dict['big_list'][3] = Dict['big_list'][5],Dict['big_list'][7]\n",
    "print(Dict['big_list'])"
   ]
  },
  {
   "cell_type": "code",
   "execution_count": null,
   "metadata": {},
   "outputs": [],
   "source": []
  }
 ],
 "metadata": {
  "interpreter": {
   "hash": "6d46af94c2bbce495f1e668725902fa517c90b1782bcfe2fce0dd9868df553d3"
  },
  "kernelspec": {
   "display_name": "Python 3.9.7 ('base')",
   "language": "python",
   "name": "python3"
  },
  "language_info": {
   "codemirror_mode": {
    "name": "ipython",
    "version": 3
   },
   "file_extension": ".py",
   "mimetype": "text/x-python",
   "name": "python",
   "nbconvert_exporter": "python",
   "pygments_lexer": "ipython3",
   "version": "3.9.7"
  },
  "orig_nbformat": 4
 },
 "nbformat": 4,
 "nbformat_minor": 2
}
